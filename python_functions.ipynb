{
 "cells": [
  {
   "cell_type": "markdown",
   "metadata": {},
   "source": [
    "### Define a Function\n",
    "##### A function is simply a block of code that performs a specific task"
   ]
  },
  {
   "cell_type": "code",
   "execution_count": 3,
   "metadata": {},
   "outputs": [],
   "source": [
    "def greet():\n",
    "    print(\"Hello User\")"
   ]
  },
  {
   "cell_type": "markdown",
   "metadata": {},
   "source": [
    "#### Call, Run or Execute the function"
   ]
  },
  {
   "cell_type": "code",
   "execution_count": 4,
   "metadata": {},
   "outputs": [
    {
     "name": "stdout",
     "output_type": "stream",
     "text": [
      "Hello User\n"
     ]
    }
   ],
   "source": [
    "greet()"
   ]
  },
  {
   "cell_type": "markdown",
   "metadata": {},
   "source": [
    "#### Function parameters"
   ]
  },
  {
   "cell_type": "code",
   "execution_count": 5,
   "metadata": {},
   "outputs": [],
   "source": [
    "def greet(name):\n",
    "    print(f\"Hello {name}\")"
   ]
  },
  {
   "cell_type": "markdown",
   "metadata": {},
   "source": [
    "#### Call the Function"
   ]
  },
  {
   "cell_type": "code",
   "execution_count": 10,
   "metadata": {},
   "outputs": [
    {
     "name": "stdout",
     "output_type": "stream",
     "text": [
      "Hello Ify\n"
     ]
    }
   ],
   "source": [
    "greet(\"Ify\")"
   ]
  },
  {
   "cell_type": "code",
   "execution_count": 4,
   "metadata": {},
   "outputs": [
    {
     "name": "stdout",
     "output_type": "stream",
     "text": [
      "68\n",
      "15\n"
     ]
    }
   ],
   "source": [
    "# Task - Write a function that accepts two numbers and returns their sum\n",
    "\n",
    "def sum_two_numbers(numb1, numb2):\n",
    "    sum = numb1 + numb2\n",
    "    return sum\n",
    "\n",
    "print(sum_two_numbers(23, 45))\n",
    "print(sum_two_numbers(5, 10))"
   ]
  },
  {
   "cell_type": "code",
   "execution_count": 8,
   "metadata": {},
   "outputs": [
    {
     "data": {
      "text/plain": [
       "4188.790204786391"
      ]
     },
     "execution_count": 8,
     "metadata": {},
     "output_type": "execute_result"
    }
   ],
   "source": [
    "# Create a function that calculates the volume of a Sphere\n",
    "\n",
    "import math\n",
    "\n",
    "def volumeOfSphere(radius = 10):\n",
    "    volume = 4 / 3 * math.pi * radius ** 3\n",
    "    return volume\n",
    "\n",
    "volumeOfSphere()"
   ]
  },
  {
   "cell_type": "code",
   "execution_count": 13,
   "metadata": {},
   "outputs": [
    {
     "name": "stdout",
     "output_type": "stream",
     "text": [
      "(1, 4, 5, 3)\n",
      "13\n",
      "(1, 4, 5, 3, 8, 6, 10, 19)\n",
      "56\n",
      "()\n",
      "0\n"
     ]
    }
   ],
   "source": [
    "# Define a function that takes in any number of arguments\n",
    "\n",
    "def all_numbers(*numbers):\n",
    "    print(numbers)\n",
    "    return sum(numbers)\n",
    "\n",
    "print(all_numbers(1, 4, 5, 3))\n",
    "print(all_numbers(1, 4, 5, 3, 8, 6, 10, 19))\n",
    "print(all_numbers())"
   ]
  },
  {
   "cell_type": "markdown",
   "metadata": {},
   "source": [
    "### In-built functions in Python"
   ]
  },
  {
   "cell_type": "code",
   "execution_count": 21,
   "metadata": {},
   "outputs": [
    {
     "name": "stdout",
     "output_type": "stream",
     "text": [
      "{'mean': 43.583333333333336, 'median': 43.0, 'mode': 45}\n"
     ]
    }
   ],
   "source": [
    "import statistics\n",
    "\n",
    "data = [12, 45, 32, 33, 56, 41, 28, 93, 54, 45, 45, 39]\n",
    "\n",
    "def get_stats(data):\n",
    "    mean = statistics.mean(data)\n",
    "    median = statistics.median(data)\n",
    "    mode = statistics.mode(data)\n",
    "    return {\n",
    "        \"mean\": mean,\n",
    "        \"median\": median,\n",
    "        \"mode\": mode\n",
    "    }\n",
    "    \n",
    "print(get_stats(data))"
   ]
  }
 ],
 "metadata": {
  "kernelspec": {
   "display_name": "Python 3",
   "language": "python",
   "name": "python3"
  },
  "language_info": {
   "codemirror_mode": {
    "name": "ipython",
    "version": 3
   },
   "file_extension": ".py",
   "mimetype": "text/x-python",
   "name": "python",
   "nbconvert_exporter": "python",
   "pygments_lexer": "ipython3",
   "version": "3.12.3"
  }
 },
 "nbformat": 4,
 "nbformat_minor": 2
}
