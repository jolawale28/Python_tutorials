{
 "cells": [
  {
   "cell_type": "markdown",
   "metadata": {},
   "source": [
    "# Tuples"
   ]
  },
  {
   "cell_type": "markdown",
   "metadata": {},
   "source": [
    "#### A Tuple is used to store multiple items in a single variable. It is a collection that is ordered and unchangeable."
   ]
  },
  {
   "cell_type": "code",
   "execution_count": 5,
   "metadata": {},
   "outputs": [
    {
     "name": "stdout",
     "output_type": "stream",
     "text": [
      "('apples', 'bananas', 'cherry', 'apples', 'bananas') (45, 23, 89, 56, 21, 32, 40)\n"
     ]
    }
   ],
   "source": [
    "fruits = (\"apples\", \"bananas\", \"cherry\", \"apples\", \"bananas\")\n",
    "numbers = (45, 23, 89, 56, 21, 32, 40)\n",
    "\n",
    "print(fruits, numbers)"
   ]
  },
  {
   "cell_type": "markdown",
   "metadata": {},
   "source": [
    "# Tuple Length"
   ]
  },
  {
   "cell_type": "code",
   "execution_count": 6,
   "metadata": {},
   "outputs": [
    {
     "name": "stdout",
     "output_type": "stream",
     "text": [
      "Number of items in fruits tuple is: 5\n",
      "Number of items in numbers tuple is: 7\n"
     ]
    }
   ],
   "source": [
    "# Find the number of items in a tuple\n",
    "print(f\"Number of items in fruits tuple is: {len(fruits)}\")\n",
    "print(f\"Number of items in numbers tuple is: {len(numbers)}\")"
   ]
  },
  {
   "cell_type": "markdown",
   "metadata": {},
   "source": [
    "# Accessing Tuple Items"
   ]
  },
  {
   "cell_type": "code",
   "execution_count": 15,
   "metadata": {},
   "outputs": [
    {
     "name": "stdout",
     "output_type": "stream",
     "text": [
      "apples\n",
      "bananas\n",
      "cherry\n",
      "apples\n",
      "-----------------------------------\n",
      "bananas\n",
      "apples\n",
      "('apples', 'bananas', 'cherry')\n",
      "('bananas', 'cherry', 'apples', 'bananas')\n",
      "('bananas', 'cherry', 'apples')\n"
     ]
    }
   ],
   "source": [
    "# Get the first item in fruits\n",
    "print(fruits[0])\n",
    "print(fruits[1])\n",
    "print(fruits[2])\n",
    "print(fruits[3])\n",
    "\n",
    "print(\"-----------------------------------\")\n",
    "# Accessing items using Negative Indexing\n",
    "print(fruits[-1])\n",
    "print(fruits[-2])\n",
    "\n",
    "# Range of indexing\n",
    "print(fruits[:3])\n",
    "print(fruits[1:])\n",
    "print(fruits[1:4])"
   ]
  },
  {
   "cell_type": "markdown",
   "metadata": {},
   "source": [
    "# Check if Item exists in Tuple"
   ]
  },
  {
   "cell_type": "code",
   "execution_count": 17,
   "metadata": {},
   "outputs": [
    {
     "name": "stdout",
     "output_type": "stream",
     "text": [
      "True\n"
     ]
    }
   ],
   "source": [
    "# Check if item exists in tuple\n",
    "print(\"apple\" in fruits)"
   ]
  },
  {
   "cell_type": "markdown",
   "metadata": {},
   "source": [
    "# Update a Tuple"
   ]
  },
  {
   "cell_type": "code",
   "execution_count": 19,
   "metadata": {},
   "outputs": [
    {
     "name": "stdout",
     "output_type": "stream",
     "text": [
      "('mango', 'bananas', 'cherry', 'apples', 'pineapple')\n"
     ]
    }
   ],
   "source": [
    "# Convert the tuple to a list\n",
    "temp = list(fruits) # Convert tuple to list\n",
    "temp[0] = \"mango\" # Change first item\n",
    "temp[-1] = \"pineapple\" # Change last item\n",
    "\n",
    "fruits = tuple(temp) # convert back to tuple\n",
    "\n",
    "print(fruits)"
   ]
  },
  {
   "cell_type": "markdown",
   "metadata": {},
   "source": [
    "# Add items to Tuple"
   ]
  },
  {
   "cell_type": "code",
   "execution_count": 21,
   "metadata": {},
   "outputs": [
    {
     "name": "stdout",
     "output_type": "stream",
     "text": [
      "('mango', 'bananas', 'cherry', 'apples', 'pineapple', 'guava', 'guava', 'Pawpaw')\n"
     ]
    }
   ],
   "source": [
    "temp = list(fruits)\n",
    "temp.append(\"guava\")\n",
    "temp.append(\"Pawpaw\")\n",
    "fruits = tuple(temp)\n",
    "\n",
    "print(fruits)"
   ]
  },
  {
   "cell_type": "markdown",
   "metadata": {},
   "source": [
    "# Delete items in a Tuple"
   ]
  },
  {
   "cell_type": "code",
   "execution_count": 22,
   "metadata": {},
   "outputs": [
    {
     "name": "stdout",
     "output_type": "stream",
     "text": [
      "('mango', 'bananas', 'cherry', 'pineapple', 'guava', 'guava', 'Pawpaw')\n"
     ]
    }
   ],
   "source": [
    "temp = list(fruits)\n",
    "temp.remove(\"apples\")\n",
    "fruits = tuple(temp)\n",
    "\n",
    "print(fruits)"
   ]
  },
  {
   "cell_type": "markdown",
   "metadata": {},
   "source": [
    "# Unpacking Tuples"
   ]
  },
  {
   "cell_type": "code",
   "execution_count": 24,
   "metadata": {},
   "outputs": [
    {
     "name": "stdout",
     "output_type": "stream",
     "text": [
      "ronaldo\n",
      "messi\n",
      "['dybala', 'ballack', 'lampard', 'ribery']\n",
      "<class 'list'>\n"
     ]
    }
   ],
   "source": [
    "players = (\"ronaldo\", \"messi\", \"dybala\", \"ballack\", \"lampard\", \"ribery\")\n",
    "(manu, barca, *clubs) = players # Unpacking\n",
    "\n",
    "print(manu)\n",
    "print(barca)\n",
    "print(clubs)\n",
    "print(type(clubs))"
   ]
  },
  {
   "cell_type": "code",
   "execution_count": 25,
   "metadata": {},
   "outputs": [
    {
     "name": "stdout",
     "output_type": "stream",
     "text": [
      "ronaldo\n",
      "ribery\n",
      "['messi', 'dybala', 'ballack', 'lampard']\n"
     ]
    }
   ],
   "source": [
    "(firstPLayer, *group, lastPlayer) = players\n",
    "\n",
    "print(firstPLayer)\n",
    "print(lastPlayer)\n",
    "print(group)"
   ]
  },
  {
   "cell_type": "markdown",
   "metadata": {},
   "source": [
    "# Loop through a Tuple"
   ]
  },
  {
   "cell_type": "code",
   "execution_count": 27,
   "metadata": {},
   "outputs": [
    {
     "name": "stdout",
     "output_type": "stream",
     "text": [
      "ronaldo\n",
      "messi\n",
      "dybala\n",
      "ballack\n",
      "lampard\n",
      "ribery\n",
      "ronaldo\n",
      "messi\n",
      "dybala\n",
      "ballack\n",
      "lampard\n",
      "ribery\n"
     ]
    }
   ],
   "source": [
    "# Classic for-loop\n",
    "for p in players:\n",
    "    print(p)\n",
    "   \n",
    "# Index for-loop \n",
    "for i in range(len(players)):\n",
    "    print(players[i])"
   ]
  },
  {
   "cell_type": "markdown",
   "metadata": {},
   "source": [
    "# Join Tuples"
   ]
  },
  {
   "cell_type": "code",
   "execution_count": 29,
   "metadata": {},
   "outputs": [
    {
     "name": "stdout",
     "output_type": "stream",
     "text": [
      "('a', 'b', 'c', 1, 2, 3)\n",
      "('a', 'b', 'c', 'a', 'b', 'c')\n"
     ]
    }
   ],
   "source": [
    "tuple1 = (\"a\", \"b\", \"c\")\n",
    "tuple2 = (1, 2, 3)\n",
    "\n",
    "tuple3 = tuple1 + tuple2\n",
    "\n",
    "print(tuple3)\n",
    "\n",
    "tuple4 = tuple1 * 2\n",
    "\n",
    "print(tuple4)"
   ]
  },
  {
   "cell_type": "markdown",
   "metadata": {},
   "source": [
    "# Tuple count() method"
   ]
  },
  {
   "cell_type": "code",
   "execution_count": 32,
   "metadata": {},
   "outputs": [
    {
     "name": "stdout",
     "output_type": "stream",
     "text": [
      "2\n"
     ]
    }
   ],
   "source": [
    "tuple = (1, 3, 7, 8, 7, 5, 4, 6, 8, 5)\n",
    "\n",
    "x = tuple.count(8)\n",
    "\n",
    "print(x)"
   ]
  },
  {
   "cell_type": "markdown",
   "metadata": {},
   "source": [
    "# Tuple index() method"
   ]
  },
  {
   "cell_type": "code",
   "execution_count": 35,
   "metadata": {},
   "outputs": [
    {
     "name": "stdout",
     "output_type": "stream",
     "text": [
      "3\n"
     ]
    }
   ],
   "source": [
    "index = tuple.index(8)\n",
    "\n",
    "print(index)"
   ]
  }
 ],
 "metadata": {
  "kernelspec": {
   "display_name": "Python 3",
   "language": "python",
   "name": "python3"
  },
  "language_info": {
   "codemirror_mode": {
    "name": "ipython",
    "version": 3
   },
   "file_extension": ".py",
   "mimetype": "text/x-python",
   "name": "python",
   "nbconvert_exporter": "python",
   "pygments_lexer": "ipython3",
   "version": "3.12.3"
  }
 },
 "nbformat": 4,
 "nbformat_minor": 2
}
